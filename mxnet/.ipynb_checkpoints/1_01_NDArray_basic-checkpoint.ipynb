{
 "cells": [
  {
   "cell_type": "markdown",
   "metadata": {},
   "source": [
    "### import mxnet as mx\n",
    "\n",
    "so that we can use components from mxnet with mx"
   ]
  },
  {
   "cell_type": "code",
   "execution_count": 1,
   "metadata": {
    "collapsed": false
   },
   "outputs": [],
   "source": [
    "import mxnet as mx"
   ]
  },
  {
   "cell_type": "markdown",
   "metadata": {},
   "source": [
    "### Create NDArray variables\n",
    "\n",
    "You can define NDArray variables which are full of \"ones\" with `mx.nd.ones(<shape>)`,\n",
    "and NDArray variables which are full of \"zeros\" with `mx.nd.zeros(<shape>)`.\n",
    "\n",
    "Basic mathematical operators can be used directly with these NDArray variables.\n",
    "\n",
    "To get all the values in the NDArray, you can use `asnumpy()` function of NDArray"
   ]
  },
  {
   "cell_type": "code",
   "execution_count": 2,
   "metadata": {
    "collapsed": false
   },
   "outputs": [
    {
     "data": {
      "text/plain": [
       "array([[ 1.,  1.,  1.,  1.],\n",
       "       [ 1.,  1.,  1.,  1.],\n",
       "       [ 1.,  1.,  1.,  1.]], dtype=float32)"
      ]
     },
     "execution_count": 2,
     "metadata": {},
     "output_type": "execute_result"
    }
   ],
   "source": [
    "a = mx.nd.ones((3,4))\n",
    "b = mx.nd.zeros((3,4))\n",
    "\n",
    "c = a + b\n",
    "\n",
    "c.asnumpy()"
   ]
  },
  {
   "cell_type": "markdown",
   "metadata": {},
   "source": [
    "###  Create random NDArray\n",
    "\n",
    "\n",
    "`mx.nd.empty(<shape>)` can be used to create NDArray full of random numbers:"
   ]
  },
  {
   "cell_type": "code",
   "execution_count": 3,
   "metadata": {
    "collapsed": false
   },
   "outputs": [
    {
     "data": {
      "text/plain": [
       "array([[  0.00000000e+00,   1.58456325e+29,   0.00000000e+00,\n",
       "          1.58456325e+29,   1.26116862e-44],\n",
       "       [  2.10194770e-44,   0.00000000e+00,   0.00000000e+00,\n",
       "          2.52233724e-44,   0.00000000e+00],\n",
       "       [  0.00000000e+00,   2.94272678e-44,   0.00000000e+00,\n",
       "          1.58456325e+29,   0.00000000e+00],\n",
       "       [  1.58456325e+29,   8.40779079e-45,   1.58456325e+29,\n",
       "          2.04938740e+07,   8.59202355e+09],\n",
       "       [  2.20052614e-35,   1.40129846e-45,   1.41267978e-26,\n",
       "          1.40129846e-45,   2.36505331e-35]], dtype=float32)"
      ]
     },
     "execution_count": 3,
     "metadata": {},
     "output_type": "execute_result"
    }
   ],
   "source": [
    "random_NDArray = mx.nd.empty((5,5))\n",
    "\n",
    "random_NDArray.asnumpy()"
   ]
  },
  {
   "cell_type": "markdown",
   "metadata": {},
   "source": [
    "### Create NDArray full of a number\n",
    "\n",
    "`mx.nd.full(<shape>, <number>)` can be used to create NDArray full of a number you assign with the parameter \"number\"\n"
   ]
  },
  {
   "cell_type": "code",
   "execution_count": 4,
   "metadata": {
    "collapsed": false
   },
   "outputs": [
    {
     "data": {
      "text/plain": [
       "array([[ 8.,  8.,  8.],\n",
       "       [ 8.,  8.,  8.],\n",
       "       [ 8.,  8.,  8.]], dtype=float32)"
      ]
     },
     "execution_count": 4,
     "metadata": {},
     "output_type": "execute_result"
    }
   ],
   "source": [
    "eight_NDArray = mx.nd.full((3,3), 8)\n",
    "\n",
    "eight_NDArray.asnumpy()"
   ]
  },
  {
   "cell_type": "markdown",
   "metadata": {},
   "source": [
    "For sure, you can create one NDArray full of ones, and then multiple it with the number you want"
   ]
  },
  {
   "cell_type": "code",
   "execution_count": 5,
   "metadata": {
    "collapsed": false
   },
   "outputs": [
    {
     "data": {
      "text/plain": [
       "array([[ 8.,  8.,  8.],\n",
       "       [ 8.,  8.,  8.],\n",
       "       [ 8.,  8.,  8.]], dtype=float32)"
      ]
     },
     "execution_count": 5,
     "metadata": {},
     "output_type": "execute_result"
    }
   ],
   "source": [
    "one_NDArray = mx.nd.ones((3,3))\n",
    "new_eight_NDArray = one_NDArray * 8\n",
    "\n",
    "new_eight_NDArray.asnumpy()"
   ]
  },
  {
   "cell_type": "markdown",
   "metadata": {},
   "source": [
    "### Create NDArray from python list\n",
    "\n",
    "You can create NDArray from a python list with `mx.nd.array(<list>)`"
   ]
  },
  {
   "cell_type": "code",
   "execution_count": 6,
   "metadata": {
    "collapsed": false
   },
   "outputs": [
    {
     "data": {
      "text/plain": [
       "array([ 1.,  2.,  3.,  4.], dtype=float32)"
      ]
     },
     "execution_count": 6,
     "metadata": {},
     "output_type": "execute_result"
    }
   ],
   "source": [
    "from_list = mx.nd.array([1,2,3,4])\n",
    "\n",
    "from_list.asnumpy()"
   ]
  },
  {
   "cell_type": "markdown",
   "metadata": {},
   "source": [
    "Using nesting list, you can create NDArray with multiple dimensions "
   ]
  },
  {
   "cell_type": "code",
   "execution_count": 7,
   "metadata": {
    "collapsed": false
   },
   "outputs": [
    {
     "data": {
      "text/plain": [
       "<NDArray 3x3 @cpu(0)>"
      ]
     },
     "execution_count": 7,
     "metadata": {},
     "output_type": "execute_result"
    }
   ],
   "source": [
    "from_list_2d = mx.nd.array([[1,2,3],[1,2,3],[1,2,3]])\n",
    "\n",
    "from_list_2d"
   ]
  },
  {
   "cell_type": "code",
   "execution_count": 8,
   "metadata": {
    "collapsed": false
   },
   "outputs": [
    {
     "data": {
      "text/plain": [
       "<NDArray 2x2x3 @cpu(0)>"
      ]
     },
     "execution_count": 8,
     "metadata": {},
     "output_type": "execute_result"
    }
   ],
   "source": [
    "from_list_3d = mx.nd.array([[[1,2,3],[1,2,3]],[[1,2,3],[1,2,3]]])\n",
    "\n",
    "from_list_3d"
   ]
  },
  {
   "cell_type": "markdown",
   "metadata": {},
   "source": [
    "### Data type of NDArray\n",
    "\n",
    "As you may noticed, the defaul data type of elements in NDArray is float32.\n",
    "\n",
    "You can set the data type while creating NDArray"
   ]
  },
  {
   "cell_type": "code",
   "execution_count": 9,
   "metadata": {
    "collapsed": false
   },
   "outputs": [
    {
     "data": {
      "text/plain": [
       "(numpy.float32, numpy.int32, numpy.float16)"
      ]
     },
     "execution_count": 9,
     "metadata": {},
     "output_type": "execute_result"
    }
   ],
   "source": [
    "import numpy as np\n",
    "\n",
    "a_float32 = mx.nd.array([1,2,3])\n",
    "a_int32 = mx.nd.array([1,2,3], dtype=np.int32)\n",
    "a_float16 = mx.nd.array([1,2,3], dtype=np.float16)\n",
    "\n",
    "(a_float32.dtype, a_int32.dtype, a_float16.dtype)"
   ]
  },
  {
   "cell_type": "markdown",
   "metadata": {},
   "source": [
    "### Reshape a NDArray\n",
    "\n",
    "You can reshape a NDArray with `NDArray.reshape()`\n",
    "\n",
    "This function will not change the shape of the original NDArray, it will geneate a new NDArray."
   ]
  },
  {
   "cell_type": "code",
   "execution_count": 10,
   "metadata": {
    "collapsed": false
   },
   "outputs": [
    {
     "data": {
      "text/plain": [
       "array([[ 1.,  2.,  3.],\n",
       "       [ 4.,  5.,  6.],\n",
       "       [ 7.,  8.,  9.]], dtype=float32)"
      ]
     },
     "execution_count": 10,
     "metadata": {},
     "output_type": "execute_result"
    }
   ],
   "source": [
    "original = mx.nd.array([1,2,3,4,5,6,7,8,9])\n",
    "\n",
    "result = original.reshape((3,3))\n",
    "\n",
    "result.asnumpy()"
   ]
  },
  {
   "cell_type": "markdown",
   "metadata": {},
   "source": [
    "### Save and load NDArray \n",
    "\n",
    "With `mx.nd.save(<filename>, <NDArray to save>)`, you can save NDArray to file\n",
    "\n",
    "With `mx.nd.load(<filename>)`, you can load NDArray from file"
   ]
  },
  {
   "cell_type": "code",
   "execution_count": 11,
   "metadata": {
    "collapsed": false
   },
   "outputs": [
    {
     "name": "stdout",
     "output_type": "stream",
     "text": [
      "file saved!\n"
     ]
    }
   ],
   "source": [
    "to_save = mx.nd.ones((3,4))\n",
    "mx.nd.save(\"save_test.nda\", [to_save])\n",
    "print \"file saved!\""
   ]
  },
  {
   "cell_type": "code",
   "execution_count": 12,
   "metadata": {
    "collapsed": false
   },
   "outputs": [
    {
     "data": {
      "text/plain": [
       "array([[ 1.,  1.,  1.,  1.],\n",
       "       [ 1.,  1.,  1.,  1.],\n",
       "       [ 1.,  1.,  1.,  1.]], dtype=float32)"
      ]
     },
     "execution_count": 12,
     "metadata": {},
     "output_type": "execute_result"
    }
   ],
   "source": [
    "load_from = mx.nd.load(\"save_test.nda\")\n",
    "load_from[0].asnumpy()"
   ]
  },
  {
   "cell_type": "markdown",
   "metadata": {},
   "source": [
    "### Now you can creat, save and load NDArray, and you know how to operate them."
   ]
  }
 ],
 "metadata": {
  "kernelspec": {
   "display_name": "Python 2",
   "language": "python",
   "name": "python2"
  },
  "language_info": {
   "codemirror_mode": {
    "name": "ipython",
    "version": 2
   },
   "file_extension": ".py",
   "mimetype": "text/x-python",
   "name": "python",
   "nbconvert_exporter": "python",
   "pygments_lexer": "ipython2",
   "version": "2.7.11"
  }
 },
 "nbformat": 4,
 "nbformat_minor": 2
}
