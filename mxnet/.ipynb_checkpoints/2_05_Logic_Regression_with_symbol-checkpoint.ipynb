{
 "cells": [
  {
   "cell_type": "code",
   "execution_count": 2,
   "metadata": {
    "collapsed": true
   },
   "outputs": [],
   "source": [
    "import mxnet as mx\n",
    "import numpy as np"
   ]
  },
  {
   "cell_type": "code",
   "execution_count": 4,
   "metadata": {
    "collapsed": false
   },
   "outputs": [
    {
     "data": {
      "text/plain": [
       "array([ 0.,  0.,  1.,  0.,  0.,  0.,  1.,  1.,  0.,  1.,  1.,  0.,  0.,\n",
       "        1.,  1.,  0.,  0.,  0.,  1.,  1.,  0.,  0.,  0.,  1.,  1.,  0.,\n",
       "        0.,  1.,  0.,  1.,  0.,  0.,  1.,  1.,  0.,  0.,  1.,  0.,  1.,\n",
       "        0.,  0.,  0.,  1.,  0.,  1.,  0.,  1.,  1.,  1.,  1.,  0.,  0.,\n",
       "        0.,  0.,  1.,  1.,  1.,  0.,  1.,  0.,  0.,  0.,  0.,  1.,  1.,\n",
       "        1.,  1.,  1.,  1.,  1.,  1.,  1.,  0.,  0.,  1.,  1.,  0.,  0.,\n",
       "        1.,  1.,  1.,  0.,  1.,  0.,  1.,  1.,  0.,  1.,  1.,  0.,  0.,\n",
       "        1.,  0.,  1.,  0.,  1.,  0.,  1.,  1.,  0.], dtype=float32)"
      ]
     },
     "execution_count": 4,
     "metadata": {},
     "output_type": "execute_result"
    }
   ],
   "source": [
    "w1 = 3\n",
    "w2 = 9\n",
    "b = 3\n",
    "\n",
    "sample_number = 100\n",
    "\n",
    "x1 = np.random.rand(sample_number)\n",
    "x2 = np.random.rand(sample_number)\n",
    "noise = np.random.rand(sample_number)\n",
    "\n",
    "x1_array = mx.nd.array(x1)-0.5\n",
    "x2_array = mx.nd.array(x2)-0.5\n",
    "noise_array = mx.nd.array(noise)-0.5\n",
    "\n",
    "y_input = x1_array*w1 + x2_array*w2 + b + noise_array\n",
    "\n",
    "x_data = mx.nd.concat(x1_array, x2_array, dim=0).reshape((2,10)).T\n",
    "\n",
    "#y_data = mx.nd.Activation(y_input, act_type='sigmoid')\n",
    "\n",
    "mean_array = mx.nd.full((sample_number,), mx.nd.mean(y_input).asscalar())\n",
    "\n",
    "y_data = y_input > mean_array\n",
    "\n",
    "# x_data.asnumpy()\n",
    "\n",
    "y_data.asnumpy()\n",
    "\n"
   ]
  },
  {
   "cell_type": "code",
   "execution_count": 5,
   "metadata": {
    "collapsed": false
   },
   "outputs": [],
   "source": [
    "# data = mx.symbol.Variable('data')\n",
    "# fc1  = mx.symbol.FullyConnected(data, name='fc1', num_hidden=128)\n",
    "# act1 = mx.symbol.Activation(fc1, name='relu1', act_type=\"relu\")\n",
    "# fc2  = mx.symbol.FullyConnected(act1, name='fc2', num_hidden=10)\n",
    "# out  = mx.symbol.SoftmaxOutput(fc2, name = 'softmax')\n",
    "# mod = mx.mod.Module(out)  # create a module by given a Symbol\n",
    "\n",
    "data = mx.symbol.Variable('data')\n",
    "act = mx.symbol.Activation(data, name='sigmoid', act_type='sigmoid')\n",
    "out = mx.symbol.SoftmaxOutput(act, name = 'softmax')\n",
    "\n",
    "mod = mx.mod.Module(out)"
   ]
  },
  {
   "cell_type": "code",
   "execution_count": 6,
   "metadata": {
    "collapsed": false
   },
   "outputs": [],
   "source": [
    "result = out.get_internals()\n",
    "\n",
    "#print result.tojson()"
   ]
  },
  {
   "cell_type": "code",
   "execution_count": 7,
   "metadata": {
    "collapsed": false
   },
   "outputs": [],
   "source": [
    "\n",
    "nd_iter = mx.io.NDArrayIter(data={'data':x_data},label={'softmax_label':y_data},batch_size=10)"
   ]
  },
  {
   "cell_type": "code",
   "execution_count": 8,
   "metadata": {
    "collapsed": true
   },
   "outputs": [],
   "source": [
    "import logging\n",
    "logging.getLogger().setLevel(logging.DEBUG)"
   ]
  },
  {
   "cell_type": "code",
   "execution_count": 9,
   "metadata": {
    "collapsed": false
   },
   "outputs": [
    {
     "name": "stderr",
     "output_type": "stream",
     "text": [
      "INFO:root:Epoch[0] Train-accuracy=0.600000\n",
      "INFO:root:Epoch[0] Time cost=0.002\n",
      "INFO:root:Epoch[1] Train-accuracy=0.600000\n",
      "INFO:root:Epoch[1] Time cost=0.001\n",
      "INFO:root:Epoch[2] Train-accuracy=0.600000\n",
      "INFO:root:Epoch[2] Time cost=0.001\n",
      "INFO:root:Epoch[3] Train-accuracy=0.600000\n",
      "INFO:root:Epoch[3] Time cost=0.001\n",
      "INFO:root:Epoch[4] Train-accuracy=0.600000\n",
      "INFO:root:Epoch[4] Time cost=0.001\n",
      "INFO:root:Epoch[5] Train-accuracy=0.600000\n",
      "INFO:root:Epoch[5] Time cost=0.001\n",
      "INFO:root:Epoch[6] Train-accuracy=0.600000\n",
      "INFO:root:Epoch[6] Time cost=0.001\n",
      "INFO:root:Epoch[7] Train-accuracy=0.600000\n",
      "INFO:root:Epoch[7] Time cost=0.001\n",
      "INFO:root:Epoch[8] Train-accuracy=0.600000\n",
      "INFO:root:Epoch[8] Time cost=0.001\n",
      "INFO:root:Epoch[9] Train-accuracy=0.600000\n",
      "INFO:root:Epoch[9] Time cost=0.001\n"
     ]
    }
   ],
   "source": [
    "\n",
    "mod.fit(nd_iter, num_epoch=10)"
   ]
  },
  {
   "cell_type": "code",
   "execution_count": 11,
   "metadata": {
    "collapsed": false
   },
   "outputs": [
    {
     "data": {
      "text/plain": [
       "1"
      ]
     },
     "execution_count": 11,
     "metadata": {},
     "output_type": "execute_result"
    }
   ],
   "source": [
    "a = 1\n",
    "a"
   ]
  },
  {
   "cell_type": "code",
   "execution_count": null,
   "metadata": {
    "collapsed": true
   },
   "outputs": [],
   "source": []
  }
 ],
 "metadata": {
  "kernelspec": {
   "display_name": "Python 2",
   "language": "python",
   "name": "python2"
  },
  "language_info": {
   "codemirror_mode": {
    "name": "ipython",
    "version": 2
   },
   "file_extension": ".py",
   "mimetype": "text/x-python",
   "name": "python",
   "nbconvert_exporter": "python",
   "pygments_lexer": "ipython2",
   "version": "2.7.11"
  }
 },
 "nbformat": 4,
 "nbformat_minor": 2
}
