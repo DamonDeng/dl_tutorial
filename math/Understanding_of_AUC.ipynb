{
 "cells": [
  {
   "cell_type": "markdown",
   "metadata": {},
   "source": [
    "# Understanding of AUC\n",
    "\n",
    "AUC is an important concept in binary classification.\n",
    "\n",
    "We are going to descrbe what AUC is with an example"
   ]
  },
  {
   "cell_type": "markdown",
   "metadata": {},
   "source": [
    "## Importing packages"
   ]
  },
  {
   "cell_type": "code",
   "execution_count": 62,
   "metadata": {},
   "outputs": [],
   "source": [
    "from __future__ import print_function\n",
    "\n",
    "import numpy as np\n",
    "import pandas as pd\n",
    "import matplotlib.pyplot as plt\n",
    "\n",
    "\n",
    "from ipywidgets import interact, interactive, fixed, interact_manual\n",
    "import ipywidgets as widgets\n",
    "from ipywidgets import IntSlider, FloatSlider, Checkbox, IntRangeSlider\n",
    "\n",
    "%matplotlib inline"
   ]
  },
  {
   "cell_type": "markdown",
   "metadata": {},
   "source": [
    "## Gegerating sample data\n"
   ]
  },
  {
   "cell_type": "markdown",
   "metadata": {},
   "source": [
    "### Generating students label\n",
    "\n",
    "Say that there are 150 students, 50 of them study well, and the other 100 students didn't spend too much time to learn.\n",
    "\n",
    "Although we should not judge a student simply base on whether he or she study well, for convenience, we call the 50 students who study well as \"good\" students, and the other 100 as \"bad\" students."
   ]
  },
  {
   "cell_type": "code",
   "execution_count": 2,
   "metadata": {},
   "outputs": [],
   "source": [
    "good_ones = np.ones(50)\n",
    "bad_ones = np.zeros(100)"
   ]
  },
  {
   "cell_type": "code",
   "execution_count": 3,
   "metadata": {},
   "outputs": [],
   "source": [
    "score_df = pd.DataFrame(np.concatenate((good_ones, bad_ones)))"
   ]
  },
  {
   "cell_type": "code",
   "execution_count": 4,
   "metadata": {},
   "outputs": [],
   "source": [
    "score_df.columns = ['label']"
   ]
  },
  {
   "cell_type": "code",
   "execution_count": 5,
   "metadata": {},
   "outputs": [
    {
     "data": {
      "text/html": [
       "<div>\n",
       "<style scoped>\n",
       "    .dataframe tbody tr th:only-of-type {\n",
       "        vertical-align: middle;\n",
       "    }\n",
       "\n",
       "    .dataframe tbody tr th {\n",
       "        vertical-align: top;\n",
       "    }\n",
       "\n",
       "    .dataframe thead th {\n",
       "        text-align: right;\n",
       "    }\n",
       "</style>\n",
       "<table border=\"1\" class=\"dataframe\">\n",
       "  <thead>\n",
       "    <tr style=\"text-align: right;\">\n",
       "      <th></th>\n",
       "      <th>label</th>\n",
       "    </tr>\n",
       "  </thead>\n",
       "  <tbody>\n",
       "    <tr>\n",
       "      <th>0</th>\n",
       "      <td>1.0</td>\n",
       "    </tr>\n",
       "    <tr>\n",
       "      <th>1</th>\n",
       "      <td>1.0</td>\n",
       "    </tr>\n",
       "    <tr>\n",
       "      <th>2</th>\n",
       "      <td>1.0</td>\n",
       "    </tr>\n",
       "    <tr>\n",
       "      <th>3</th>\n",
       "      <td>1.0</td>\n",
       "    </tr>\n",
       "    <tr>\n",
       "      <th>4</th>\n",
       "      <td>1.0</td>\n",
       "    </tr>\n",
       "  </tbody>\n",
       "</table>\n",
       "</div>"
      ],
      "text/plain": [
       "   label\n",
       "0    1.0\n",
       "1    1.0\n",
       "2    1.0\n",
       "3    1.0\n",
       "4    1.0"
      ]
     },
     "execution_count": 5,
     "metadata": {},
     "output_type": "execute_result"
    }
   ],
   "source": [
    "score_df.head()"
   ]
  },
  {
   "cell_type": "markdown",
   "metadata": {},
   "source": [
    "### Generating scores\n",
    "Generating score for students.\n",
    "\n",
    "For \"good\" students, they will get score between 60 to 100.\n",
    "For \"bad\" students, they will get score between 0 to 59."
   ]
  },
  {
   "cell_type": "code",
   "execution_count": 6,
   "metadata": {},
   "outputs": [],
   "source": [
    "score_df['score'] = score_df['label'].map(\\\n",
    "                                          lambda x: np.rint(np.random.rand()*59) if x==0 \\\n",
    "                                          else 60 + np.rint(np.random.rand()*40))"
   ]
  },
  {
   "cell_type": "code",
   "execution_count": 7,
   "metadata": {},
   "outputs": [],
   "source": [
    "score_df.sort_values(by='score', inplace=True)"
   ]
  },
  {
   "cell_type": "code",
   "execution_count": 8,
   "metadata": {},
   "outputs": [],
   "source": [
    "score_df.reset_index(inplace=True, drop=True)"
   ]
  },
  {
   "cell_type": "code",
   "execution_count": 9,
   "metadata": {},
   "outputs": [
    {
     "data": {
      "text/html": [
       "<div>\n",
       "<style scoped>\n",
       "    .dataframe tbody tr th:only-of-type {\n",
       "        vertical-align: middle;\n",
       "    }\n",
       "\n",
       "    .dataframe tbody tr th {\n",
       "        vertical-align: top;\n",
       "    }\n",
       "\n",
       "    .dataframe thead th {\n",
       "        text-align: right;\n",
       "    }\n",
       "</style>\n",
       "<table border=\"1\" class=\"dataframe\">\n",
       "  <thead>\n",
       "    <tr style=\"text-align: right;\">\n",
       "      <th></th>\n",
       "      <th>label</th>\n",
       "      <th>score</th>\n",
       "    </tr>\n",
       "  </thead>\n",
       "  <tbody>\n",
       "    <tr>\n",
       "      <th>0</th>\n",
       "      <td>0.0</td>\n",
       "      <td>0.0</td>\n",
       "    </tr>\n",
       "    <tr>\n",
       "      <th>1</th>\n",
       "      <td>0.0</td>\n",
       "      <td>0.0</td>\n",
       "    </tr>\n",
       "    <tr>\n",
       "      <th>2</th>\n",
       "      <td>0.0</td>\n",
       "      <td>1.0</td>\n",
       "    </tr>\n",
       "    <tr>\n",
       "      <th>3</th>\n",
       "      <td>0.0</td>\n",
       "      <td>1.0</td>\n",
       "    </tr>\n",
       "    <tr>\n",
       "      <th>4</th>\n",
       "      <td>0.0</td>\n",
       "      <td>1.0</td>\n",
       "    </tr>\n",
       "    <tr>\n",
       "      <th>5</th>\n",
       "      <td>0.0</td>\n",
       "      <td>1.0</td>\n",
       "    </tr>\n",
       "    <tr>\n",
       "      <th>6</th>\n",
       "      <td>0.0</td>\n",
       "      <td>2.0</td>\n",
       "    </tr>\n",
       "    <tr>\n",
       "      <th>7</th>\n",
       "      <td>0.0</td>\n",
       "      <td>2.0</td>\n",
       "    </tr>\n",
       "    <tr>\n",
       "      <th>8</th>\n",
       "      <td>0.0</td>\n",
       "      <td>3.0</td>\n",
       "    </tr>\n",
       "    <tr>\n",
       "      <th>9</th>\n",
       "      <td>0.0</td>\n",
       "      <td>4.0</td>\n",
       "    </tr>\n",
       "  </tbody>\n",
       "</table>\n",
       "</div>"
      ],
      "text/plain": [
       "   label  score\n",
       "0    0.0    0.0\n",
       "1    0.0    0.0\n",
       "2    0.0    1.0\n",
       "3    0.0    1.0\n",
       "4    0.0    1.0\n",
       "5    0.0    1.0\n",
       "6    0.0    2.0\n",
       "7    0.0    2.0\n",
       "8    0.0    3.0\n",
       "9    0.0    4.0"
      ]
     },
     "execution_count": 9,
     "metadata": {},
     "output_type": "execute_result"
    }
   ],
   "source": [
    "score_df.head(10)"
   ]
  },
  {
   "cell_type": "markdown",
   "metadata": {},
   "source": [
    "The following is the diagram of the students"
   ]
  },
  {
   "cell_type": "code",
   "execution_count": 10,
   "metadata": {},
   "outputs": [
    {
     "data": {
      "text/plain": [
       "<matplotlib.collections.PathCollection at 0x7fed10921dd8>"
      ]
     },
     "execution_count": 10,
     "metadata": {},
     "output_type": "execute_result"
    },
    {
     "data": {
      "image/png": "[encoded data removed]",
      "text/plain": [
       "<Figure size 576x432 with 1 Axes>"
      ]
     },
     "metadata": {
      "needs_background": "light"
     },
     "output_type": "display_data"
    }
   ],
   "source": [
    "plt.figure(figsize=(8,6))\n",
    "\n",
    "plt.scatter(score_df['score'], score_df.index, c=score_df['label'])"
   ]
  },
  {
   "cell_type": "code",
   "execution_count": 11,
   "metadata": {},
   "outputs": [
    {
     "data": {
      "text/plain": [
       "50"
      ]
     },
     "execution_count": 11,
     "metadata": {},
     "output_type": "execute_result"
    }
   ],
   "source": [
    "number_good = list(score_df['label']).count(1)\n",
    "number_good"
   ]
  },
  {
   "cell_type": "code",
   "execution_count": 12,
   "metadata": {},
   "outputs": [
    {
     "data": {
      "text/plain": [
       "100"
      ]
     },
     "execution_count": 12,
     "metadata": {},
     "output_type": "execute_result"
    }
   ],
   "source": [
    "number_bad = list(score_df['label']).count(0)\n",
    "number_bad"
   ]
  },
  {
   "cell_type": "markdown",
   "metadata": {},
   "source": [
    "## Understanding of TP, TN, FP, FN"
   ]
  },
  {
   "cell_type": "markdown",
   "metadata": {},
   "source": [
    "Say that there is a teacher has no idea about the column \"label\", and he need to set a thresdhold to decide which student pass the exam.\n",
    "\n"
   ]
  },
  {
   "cell_type": "markdown",
   "metadata": {},
   "source": [
    "### Extreme sample 1: Lowest bar\n",
    "One extreme and lazy way is setting the threshold to 0, and let all the students pass the exam."
   ]
  },
  {
   "cell_type": "code",
   "execution_count": 13,
   "metadata": {},
   "outputs": [
    {
     "name": "stdout",
     "output_type": "stream",
     "text": [
      "Then all the 150 students \"pass\" the exam\n",
      "Infact, there are only 50 students should pass the exam.\n",
      "At the same time, there are 100 students \"pass\" the exam by teacher's mistake.\n",
      "\n",
      "The number of \"True Pass\" (True Positive) TP is 50\n",
      "The number of \"False Pass\" (False Positive) FP is 100\n",
      "The number of \"True Not pass\" (True Negative) TN is 0\n",
      "The number of \"False Not pass\" (False Negative) TN is 0\n"
     ]
    }
   ],
   "source": [
    "print('Then all the 150 students \"pass\" the exam')\n",
    "print ('Infact, there are only ' + str(number_good) + ' students should pass the exam.')\n",
    "print ('At the same time, there are ' + str(number_bad) + ' students \"pass\" the exam by teacher\\'s mistake.')\n",
    "print ('')\n",
    "print('The number of \"True Pass\" (True Positive) TP is ' + str(number_good))\n",
    "print('The number of \"False Pass\" (False Positive) FP is ' + str(number_bad))\n",
    "print('The number of \"True Not pass\" (True Negative) TN is 0')\n",
    "print('The number of \"False Not pass\" (False Negative) TN is 0')"
   ]
  },
  {
   "cell_type": "markdown",
   "metadata": {},
   "source": [
    "### Extreme sample 2: Highest bar\n",
    "The other extreme and lazy way is setting the threshold to 100, and let all the students fail."
   ]
  },
  {
   "cell_type": "code",
   "execution_count": 14,
   "metadata": {},
   "outputs": [
    {
     "name": "stdout",
     "output_type": "stream",
     "text": [
      "Then all the 150 students \"not pass\" the exam\n",
      "Infact, there are only 100 students should fail.\n",
      "At the sametime, there are 50 students fail by teacher's mistake.\n",
      "\n",
      "The number of \"True Pass\" (True Positive) TP is 0\n",
      "The number of \"False Pass\" (False Positive) FP is 0\n",
      "The number of \"True Not pass\" (True Negative) TN is 100\n",
      "The number of \"False Not pass\" (False Negative) TN is 50\n"
     ]
    }
   ],
   "source": [
    "print('Then all the 150 students \"not pass\" the exam')\n",
    "print('Infact, there are only ' + str(number_bad) + ' students should fail.')\n",
    "print('At the sametime, there are '  + str(number_good) + ' students fail by teacher\\'s mistake.') \n",
    "print('')\n",
    "print('The number of \"True Pass\" (True Positive) TP is 0' )\n",
    "print('The number of \"False Pass\" (False Positive) FP is 0' )\n",
    "print('The number of \"True Not pass\" (True Negative) TN is ' + str(number_bad))\n",
    "print('The number of \"False Not pass\" (False Negative) TN is '+ str(number_good))"
   ]
  },
  {
   "cell_type": "markdown",
   "metadata": {},
   "source": [
    "### Normal sample 1: Lower bar\n",
    "\n",
    "One reasonable way is setting to score between 0 and 100, but sometimes the threshold may be lower than right one.\n",
    "\n",
    "Say that the teacher set the threshold to 50"
   ]
  },
  {
   "cell_type": "code",
   "execution_count": 15,
   "metadata": {},
   "outputs": [],
   "source": [
    "score_df['pass_50'] = score_df['score'].map(lambda x: 1 if x>=50 else 0)"
   ]
  },
  {
   "cell_type": "code",
   "execution_count": 16,
   "metadata": {},
   "outputs": [
    {
     "data": {
      "text/plain": [
       "66"
      ]
     },
     "execution_count": 16,
     "metadata": {},
     "output_type": "execute_result"
    }
   ],
   "source": [
    "number_pass_50 = list(score_df['pass_50']).count(1)\n",
    "number_pass_50"
   ]
  },
  {
   "cell_type": "code",
   "execution_count": 17,
   "metadata": {},
   "outputs": [
    {
     "data": {
      "text/plain": [
       "84"
      ]
     },
     "execution_count": 17,
     "metadata": {},
     "output_type": "execute_result"
    }
   ],
   "source": [
    "number_not_pass_50 = list(score_df['pass_50']).count(0)\n",
    "number_not_pass_50"
   ]
  },
  {
   "cell_type": "code",
   "execution_count": 18,
   "metadata": {},
   "outputs": [
    {
     "name": "stdout",
     "output_type": "stream",
     "text": [
      "Now there are 66 students \"pass\" the exam.\n",
      "And there are 84 students \"not pass\" the exam.\n"
     ]
    }
   ],
   "source": [
    "print ('Now there are ' + str(number_pass_50) + ' students \"pass\" the exam.')\n",
    "print ('And there are ' + str(number_not_pass_50) + ' students \"not pass\" the exam.')"
   ]
  },
  {
   "cell_type": "code",
   "execution_count": 19,
   "metadata": {},
   "outputs": [
    {
     "name": "stdout",
     "output_type": "stream",
     "text": [
      "The number of \"True Pass\" (True Positive) TP is 50\n",
      "The number of \"False Pass\" (False Positive) FP is 16\n",
      "The number of \"True Not pass\" (True Negative) TN is 84\n",
      "The number of \"False Not pass\" (False Negative) TN is 0\n"
     ]
    }
   ],
   "source": [
    "print('The number of \"True Pass\" (True Positive) TP is ' + str(number_good))\n",
    "print('The number of \"False Pass\" (False Positive) FP is ' + str(number_pass_50 - number_good))\n",
    "print('The number of \"True Not pass\" (True Negative) TN is ' + str(number_not_pass_50))\n",
    "print('The number of \"False Not pass\" (False Negative) TN is 0')"
   ]
  },
  {
   "cell_type": "markdown",
   "metadata": {},
   "source": [
    "### Normal sample 2: Higher bar\n",
    "\n",
    "One reasonable way is setting to score between 0 and 100, but sometimes the threshold may be higher than right one.\n",
    "\n",
    "Say that the teacher set the threshold to 70"
   ]
  },
  {
   "cell_type": "code",
   "execution_count": 20,
   "metadata": {},
   "outputs": [],
   "source": [
    "score_df['pass_70'] = score_df['score'].map(lambda x: 1 if x>=70 else 0)"
   ]
  },
  {
   "cell_type": "code",
   "execution_count": 21,
   "metadata": {},
   "outputs": [
    {
     "data": {
      "text/plain": [
       "36"
      ]
     },
     "execution_count": 21,
     "metadata": {},
     "output_type": "execute_result"
    }
   ],
   "source": [
    "number_pass_70 = list(score_df['pass_70']).count(1)\n",
    "number_pass_70"
   ]
  },
  {
   "cell_type": "code",
   "execution_count": 22,
   "metadata": {},
   "outputs": [
    {
     "data": {
      "text/plain": [
       "114"
      ]
     },
     "execution_count": 22,
     "metadata": {},
     "output_type": "execute_result"
    }
   ],
   "source": [
    "number_not_pass_70 = list(score_df['pass_70']).count(0)\n",
    "number_not_pass_70"
   ]
  },
  {
   "cell_type": "code",
   "execution_count": 23,
   "metadata": {},
   "outputs": [
    {
     "name": "stdout",
     "output_type": "stream",
     "text": [
      "Now there are 36 students \"pass\" the exam.\n",
      "And there are 114 students \"not pass\" the exam.\n"
     ]
    }
   ],
   "source": [
    "print ('Now there are ' + str(number_pass_70) + ' students \"pass\" the exam.')\n",
    "print ('And there are ' + str(number_not_pass_70) + ' students \"not pass\" the exam.')"
   ]
  },
  {
   "cell_type": "code",
   "execution_count": 24,
   "metadata": {},
   "outputs": [
    {
     "name": "stdout",
     "output_type": "stream",
     "text": [
      "The number of \"True Pass\" (True Positive) TP is 36\n",
      "The number of \"False Pass\" (False Positive) FP is 0\n",
      "The number of \"True Not pass\" (True Negative) TN is 100\n",
      "The number of \"False Not pass\" (False Negative) TN is 14\n"
     ]
    }
   ],
   "source": [
    "print('The number of \"True Pass\" (True Positive) TP is ' + str(number_pass_70))\n",
    "print('The number of \"False Pass\" (False Positive) FP is 0')\n",
    "print('The number of \"True Not pass\" (True Negative) TN is ' + str(number_bad))\n",
    "print('The number of \"False Not pass\" (False Negative) TN is ' + str(number_not_pass_70 - number_bad))"
   ]
  },
  {
   "cell_type": "markdown",
   "metadata": {},
   "source": [
    "### Evaluating the result using threshold between 0 to 100"
   ]
  },
  {
   "cell_type": "markdown",
   "metadata": {},
   "source": [
    "Now, imagine that you are the teacher, try to set the threshold and check the result"
   ]
  },
  {
   "cell_type": "code",
   "execution_count": 25,
   "metadata": {},
   "outputs": [],
   "source": [
    "def plot(score):\n",
    "    \n",
    "    score_df['pass_d'] = score_df['score'].map(lambda x: 1 if x>=score else 0)\n",
    "    \n",
    "    score_df['TP'] = score_df.apply(lambda x: 1 if (x['label']==1 and x['pass_d']==1) else 0 , axis=1)\n",
    "    score_df['FP'] = score_df.apply(lambda x: 1 if (x['label']==0 and x['pass_d']==1) else 0 , axis=1)\n",
    "    score_df['TN'] = score_df.apply(lambda x: 1 if (x['label']==0 and x['pass_d']==0) else 0 , axis=1)\n",
    "    score_df['FN'] = score_df.apply(lambda x: 1 if (x['label']==1 and x['pass_d']==0) else 0 , axis=1)\n",
    "    \n",
    "    number_TP = list(score_df['TP']).count(1)\n",
    "    number_FP = list(score_df['FP']).count(1)\n",
    "    number_TN = list(score_df['TN']).count(1)\n",
    "    number_FN = list(score_df['FN']).count(1)\n",
    "    \n",
    "    plt.figure(figsize=(8,6))\n",
    "\n",
    "    plt.bar(['TP', 'FP', 'TN', 'FN'], [number_TP, number_FP,number_TN,number_FN])\n",
    "    \n",
    "    print ('TP: You let ' + str(number_TP) + ' \"good\" students pass')\n",
    "    print ('FP: You let ' + str(number_FP) + ' \"bad\" students pass')\n",
    "    print ('TN: You let ' + str(number_TN) + ' \"bad\" students fail')\n",
    "    print ('FN: You let ' + str(number_FN) + ' \"good\" students fail')\n",
    "    \n",
    "    "
   ]
  },
  {
   "cell_type": "code",
   "execution_count": 26,
   "metadata": {},
   "outputs": [
    {
     "data": {
      "application/vnd.jupyter.widget-view+json": {
       "model_id": "32c47b27bd8d4587a772f65ac3bb1dc8",
       "version_major": 2,
       "version_minor": 0
      },
      "text/plain": [
       "interactive(children=(IntSlider(value=60, description='score', style=SliderStyle(description_width='initial'))…"
      ]
     },
     "metadata": {},
     "output_type": "display_data"
    }
   ],
   "source": [
    "style = {'description_width': 'initial'}\n",
    "\n",
    "@interact_manual(score=IntSlider(min=0, max=100, value=60, style=style),\n",
    "    continuous_update=False\n",
    ")\n",
    "def plot_interact(score):\n",
    "    plot(score)"
   ]
  },
  {
   "cell_type": "markdown",
   "metadata": {},
   "source": [
    "### Get the results of all kind of threshold\n",
    "\n",
    "We can let the program to evaluate each integer score from 0 to 100, remember all the number of TP, FP, TN, FN"
   ]
  },
  {
   "cell_type": "code",
   "execution_count": 27,
   "metadata": {},
   "outputs": [],
   "source": [
    "all_result = list()\n",
    "for i in range(0,101):\n",
    "    score_df['pass_d'] = score_df['score'].map(lambda x: 1 if x>=i else 0)\n",
    "    \n",
    "    score_df['TP'] = score_df.apply(lambda x: 1 if (x['label']==1 and x['pass_d']==1) else 0 , axis=1)\n",
    "    score_df['FP'] = score_df.apply(lambda x: 1 if (x['label']==0 and x['pass_d']==1) else 0 , axis=1)\n",
    "    score_df['TN'] = score_df.apply(lambda x: 1 if (x['label']==0 and x['pass_d']==0) else 0 , axis=1)\n",
    "    score_df['FN'] = score_df.apply(lambda x: 1 if (x['label']==1 and x['pass_d']==0) else 0 , axis=1)\n",
    "    \n",
    "    number_TP = list(score_df['TP']).count(1)\n",
    "    number_FP = list(score_df['FP']).count(1)\n",
    "    number_TN = list(score_df['TN']).count(1)\n",
    "    number_FN = list(score_df['FN']).count(1)\n",
    "    \n",
    "    all_result.append([number_TP, number_FP, number_TN, number_FN])"
   ]
  },
  {
   "cell_type": "code",
   "execution_count": 28,
   "metadata": {},
   "outputs": [],
   "source": [
    "all_result_array = np.array(all_result).T"
   ]
  },
  {
   "cell_type": "markdown",
   "metadata": {},
   "source": [
    "Then display the number of TP, FP, TN, FN for threshold from 0 to 100"
   ]
  },
  {
   "cell_type": "code",
   "execution_count": 29,
   "metadata": {},
   "outputs": [
    {
     "data": {
      "text/plain": [
       "[<matplotlib.lines.Line2D at 0x7fed20871940>]"
      ]
     },
     "execution_count": 29,
     "metadata": {},
     "output_type": "execute_result"
    },
    {
     "data": {
      "image/png": "[encoded data removed]",
      "text/plain": [
       "<Figure size 576x432 with 1 Axes>"
      ]
     },
     "metadata": {
      "needs_background": "light"
     },
     "output_type": "display_data"
    }
   ],
   "source": [
    "plt.figure(figsize=(8,6))\n",
    "\n",
    "plt.plot(all_result_array[0])\n",
    "plt.plot(all_result_array[1])\n",
    "plt.plot(all_result_array[2])\n",
    "plt.plot(all_result_array[3])\n"
   ]
  },
  {
   "cell_type": "markdown",
   "metadata": {},
   "source": [
    "To make it clear, we can just display the TP and FP"
   ]
  },
  {
   "cell_type": "code",
   "execution_count": 63,
   "metadata": {},
   "outputs": [
    {
     "data": {
      "text/plain": [
       "[<matplotlib.lines.Line2D at 0x7fed10e48e10>]"
      ]
     },
     "execution_count": 63,
     "metadata": {},
     "output_type": "execute_result"
    },
    {
     "data": {
      "image/png": "[encoded data removed]",
      "text/plain": [
       "<Figure size 576x432 with 1 Axes>"
      ]
     },
     "metadata": {
      "needs_background": "light"
     },
     "output_type": "display_data"
    }
   ],
   "source": [
    "plt.figure(figsize=(8,6))\n",
    "\n",
    "plt.plot(all_result_array[0])\n",
    "plt.plot(all_result_array[1])\n"
   ]
  },
  {
   "cell_type": "markdown",
   "metadata": {},
   "source": [
    "To normalize them, \n",
    "\n",
    "we can divide TP by number of \"good\" students\n",
    "\n",
    "and divide FP by number of \"bad\" students"
   ]
  },
  {
   "cell_type": "code",
   "execution_count": 64,
   "metadata": {},
   "outputs": [
    {
     "data": {
      "text/plain": [
       "[<matplotlib.lines.Line2D at 0x7fed209f3668>]"
      ]
     },
     "execution_count": 64,
     "metadata": {},
     "output_type": "execute_result"
    },
    {
     "data": {
      "image/png": "[encoded data removed]",
      "text/plain": [
       "<Figure size 576x432 with 1 Axes>"
      ]
     },
     "metadata": {
      "needs_background": "light"
     },
     "output_type": "display_data"
    }
   ],
   "source": [
    "plt.figure(figsize=(8,6))\n",
    "\n",
    "plt.plot(all_result_array[0]/number_good)\n",
    "plt.plot(all_result_array[1]/number_bad)\n"
   ]
  },
  {
   "cell_type": "markdown",
   "metadata": {},
   "source": [
    "What we need to do is finding a score to maximize the distance of these two curves"
   ]
  },
  {
   "cell_type": "code",
   "execution_count": 31,
   "metadata": {},
   "outputs": [
    {
     "data": {
      "text/plain": [
       "[<matplotlib.lines.Line2D at 0x7fecf8314c50>]"
      ]
     },
     "execution_count": 31,
     "metadata": {},
     "output_type": "execute_result"
    },
    {
     "data": {
      "image/png": "[encoded data removed]",
      "text/plain": [
       "<Figure size 576x432 with 1 Axes>"
      ]
     },
     "metadata": {
      "needs_background": "light"
     },
     "output_type": "display_data"
    }
   ],
   "source": [
    "plt.figure(figsize=(8,6))\n",
    "\n",
    "plt.plot(abs(all_result_array[0]/number_good - all_result_array[1]/number_bad))\n"
   ]
  },
  {
   "cell_type": "markdown",
   "metadata": {},
   "source": [
    "In previous diagram, we can find out that score 60 is the right score to separate \"good\" students from \"bad\" students."
   ]
  },
  {
   "cell_type": "markdown",
   "metadata": {},
   "source": [
    "## What is a good exam?\n",
    "\n",
    "We have discussed the threshold in previous cells.\n",
    "\n",
    "Now, let's focus on the exam, and think about how to design a good exam.\n",
    "\n",
    "The first exam we simulated is a good exam, as we can find a score (60) to seperate \"good\" students from \"bad\" students. The root cause is that there is no overlap of the score for \"good\" students and \"bad\" student.\n",
    "\n",
    "In real life, that is not the case generally.\n",
    "\n",
    "Let's genearte another exam to generate \"score_1\", in this exam, \"good\" students will get socre from 50 to 100, and \"bad\" students will get score from 0 to 70. "
   ]
  },
  {
   "cell_type": "code",
   "execution_count": 32,
   "metadata": {},
   "outputs": [],
   "source": [
    "score_df['score_1'] = score_df['label'].map(\\\n",
    "                                          lambda x: np.rint(np.random.rand()*69) if x==0 \\\n",
    "                                          else 50 + np.rint(np.random.rand()*50))"
   ]
  },
  {
   "cell_type": "code",
   "execution_count": 33,
   "metadata": {},
   "outputs": [],
   "source": [
    "score_df.sort_values(by = \"score_1\", inplace=True)"
   ]
  },
  {
   "cell_type": "code",
   "execution_count": 34,
   "metadata": {},
   "outputs": [],
   "source": [
    "score_df.reset_index(inplace=True, drop=True)"
   ]
  },
  {
   "cell_type": "code",
   "execution_count": 35,
   "metadata": {},
   "outputs": [
    {
     "data": {
      "text/html": [
       "<div>\n",
       "<style scoped>\n",
       "    .dataframe tbody tr th:only-of-type {\n",
       "        vertical-align: middle;\n",
       "    }\n",
       "\n",
       "    .dataframe tbody tr th {\n",
       "        vertical-align: top;\n",
       "    }\n",
       "\n",
       "    .dataframe thead th {\n",
       "        text-align: right;\n",
       "    }\n",
       "</style>\n",
       "<table border=\"1\" class=\"dataframe\">\n",
       "  <thead>\n",
       "    <tr style=\"text-align: right;\">\n",
       "      <th></th>\n",
       "      <th>label</th>\n",
       "      <th>score</th>\n",
       "      <th>pass_50</th>\n",
       "      <th>pass_70</th>\n",
       "      <th>pass_d</th>\n",
       "      <th>TP</th>\n",
       "      <th>FP</th>\n",
       "      <th>TN</th>\n",
       "      <th>FN</th>\n",
       "      <th>score_1</th>\n",
       "    </tr>\n",
       "  </thead>\n",
       "  <tbody>\n",
       "    <tr>\n",
       "      <th>0</th>\n",
       "      <td>0.0</td>\n",
       "      <td>1.0</td>\n",
       "      <td>0</td>\n",
       "      <td>0</td>\n",
       "      <td>0</td>\n",
       "      <td>0</td>\n",
       "      <td>0</td>\n",
       "      <td>1</td>\n",
       "      <td>0</td>\n",
       "      <td>0.0</td>\n",
       "    </tr>\n",
       "    <tr>\n",
       "      <th>1</th>\n",
       "      <td>0.0</td>\n",
       "      <td>5.0</td>\n",
       "      <td>0</td>\n",
       "      <td>0</td>\n",
       "      <td>0</td>\n",
       "      <td>0</td>\n",
       "      <td>0</td>\n",
       "      <td>1</td>\n",
       "      <td>0</td>\n",
       "      <td>0.0</td>\n",
       "    </tr>\n",
       "    <tr>\n",
       "      <th>2</th>\n",
       "      <td>0.0</td>\n",
       "      <td>31.0</td>\n",
       "      <td>0</td>\n",
       "      <td>0</td>\n",
       "      <td>0</td>\n",
       "      <td>0</td>\n",
       "      <td>0</td>\n",
       "      <td>1</td>\n",
       "      <td>0</td>\n",
       "      <td>0.0</td>\n",
       "    </tr>\n",
       "    <tr>\n",
       "      <th>3</th>\n",
       "      <td>0.0</td>\n",
       "      <td>8.0</td>\n",
       "      <td>0</td>\n",
       "      <td>0</td>\n",
       "      <td>0</td>\n",
       "      <td>0</td>\n",
       "      <td>0</td>\n",
       "      <td>1</td>\n",
       "      <td>0</td>\n",
       "      <td>0.0</td>\n",
       "    </tr>\n",
       "    <tr>\n",
       "      <th>4</th>\n",
       "      <td>0.0</td>\n",
       "      <td>21.0</td>\n",
       "      <td>0</td>\n",
       "      <td>0</td>\n",
       "      <td>0</td>\n",
       "      <td>0</td>\n",
       "      <td>0</td>\n",
       "      <td>1</td>\n",
       "      <td>0</td>\n",
       "      <td>1.0</td>\n",
       "    </tr>\n",
       "  </tbody>\n",
       "</table>\n",
       "</div>"
      ],
      "text/plain": [
       "   label  score  pass_50  pass_70  pass_d  TP  FP  TN  FN  score_1\n",
       "0    0.0    1.0        0        0       0   0   0   1   0      0.0\n",
       "1    0.0    5.0        0        0       0   0   0   1   0      0.0\n",
       "2    0.0   31.0        0        0       0   0   0   1   0      0.0\n",
       "3    0.0    8.0        0        0       0   0   0   1   0      0.0\n",
       "4    0.0   21.0        0        0       0   0   0   1   0      1.0"
      ]
     },
     "execution_count": 35,
     "metadata": {},
     "output_type": "execute_result"
    }
   ],
   "source": [
    "score_df.head()"
   ]
  },
  {
   "cell_type": "code",
   "execution_count": 36,
   "metadata": {},
   "outputs": [
    {
     "data": {
      "text/plain": [
       "<matplotlib.collections.PathCollection at 0x7fed007d3c50>"
      ]
     },
     "execution_count": 36,
     "metadata": {},
     "output_type": "execute_result"
    },
    {
     "data": {
      "image/png": "[encoded data removed]",
      "text/plain": [
       "<Figure size 576x432 with 1 Axes>"
      ]
     },
     "metadata": {
      "needs_background": "light"
     },
     "output_type": "display_data"
    }
   ],
   "source": [
    "plt.figure(figsize=(8,6))\n",
    "\n",
    "plt.scatter(score_df['score_1'], score_df.index, c=score_df['label'])"
   ]
  },
  {
   "cell_type": "markdown",
   "metadata": {},
   "source": [
    "and let's calculate the TP, TN, FP, FN"
   ]
  },
  {
   "cell_type": "code",
   "execution_count": 37,
   "metadata": {},
   "outputs": [],
   "source": [
    "all_result = list()\n",
    "for i in range(0,101):\n",
    "    score_df['pass_d'] = score_df['score_1'].map(lambda x: 1 if x>=i else 0)\n",
    "    \n",
    "    score_df['TP'] = score_df.apply(lambda x: 1 if (x['label']==1 and x['pass_d']==1) else 0 , axis=1)\n",
    "    score_df['FP'] = score_df.apply(lambda x: 1 if (x['label']==0 and x['pass_d']==1) else 0 , axis=1)\n",
    "    score_df['TN'] = score_df.apply(lambda x: 1 if (x['label']==0 and x['pass_d']==0) else 0 , axis=1)\n",
    "    score_df['FN'] = score_df.apply(lambda x: 1 if (x['label']==1 and x['pass_d']==0) else 0 , axis=1)\n",
    "    \n",
    "    number_TP = list(score_df['TP']).count(1)\n",
    "    number_FP = list(score_df['FP']).count(1)\n",
    "    number_TN = list(score_df['TN']).count(1)\n",
    "    number_FN = list(score_df['FN']).count(1)\n",
    "    \n",
    "    all_result.append([number_TP, number_FP, number_TN, number_FN])"
   ]
  },
  {
   "cell_type": "code",
   "execution_count": 38,
   "metadata": {},
   "outputs": [],
   "source": [
    "all_result_array_1 = np.array(all_result).T"
   ]
  },
  {
   "cell_type": "code",
   "execution_count": 39,
   "metadata": {},
   "outputs": [
    {
     "data": {
      "text/plain": [
       "[<matplotlib.lines.Line2D at 0x7fed208e4e10>]"
      ]
     },
     "execution_count": 39,
     "metadata": {},
     "output_type": "execute_result"
    },
    {
     "data": {
      "image/png": "[encoded data removed]",
      "text/plain": [
       "<Figure size 576x432 with 1 Axes>"
      ]
     },
     "metadata": {
      "needs_background": "light"
     },
     "output_type": "display_data"
    }
   ],
   "source": [
    "plt.figure(figsize=(8,6))\n",
    "\n",
    "plt.plot(all_result_array_1[0])\n",
    "plt.plot(all_result_array_1[1])\n",
    "plt.plot(all_result_array_1[2])\n",
    "plt.plot(all_result_array_1[3])"
   ]
  },
  {
   "cell_type": "code",
   "execution_count": 40,
   "metadata": {},
   "outputs": [
    {
     "data": {
      "text/plain": [
       "[<matplotlib.lines.Line2D at 0x7fecf0885ef0>]"
      ]
     },
     "execution_count": 40,
     "metadata": {},
     "output_type": "execute_result"
    },
    {
     "data": {
      "image/png": "[encoded data removed]",
      "text/plain": [
       "<Figure size 576x432 with 1 Axes>"
      ]
     },
     "metadata": {
      "needs_background": "light"
     },
     "output_type": "display_data"
    }
   ],
   "source": [
    "plt.figure(figsize=(8,6))\n",
    "\n",
    "plt.plot(all_result_array_1[0]/number_good)\n",
    "plt.plot(all_result_array_1[1]/number_bad)\n"
   ]
  },
  {
   "cell_type": "code",
   "execution_count": 41,
   "metadata": {},
   "outputs": [
    {
     "data": {
      "text/plain": [
       "[<matplotlib.lines.Line2D at 0x7fecf83495f8>]"
      ]
     },
     "execution_count": 41,
     "metadata": {},
     "output_type": "execute_result"
    },
    {
     "data": {
      "image/png": "[encoded data removed]",
      "text/plain": [
       "<Figure size 576x432 with 1 Axes>"
      ]
     },
     "metadata": {
      "needs_background": "light"
     },
     "output_type": "display_data"
    }
   ],
   "source": [
    "plt.figure(figsize=(8,6))\n",
    "\n",
    "plt.plot(abs(all_result_array[0]/number_good - all_result_array[1]/number_bad))\n",
    "plt.plot(abs(all_result_array_1[0]/number_good - all_result_array_1[1]/number_bad))\n"
   ]
  },
  {
   "cell_type": "markdown",
   "metadata": {},
   "source": [
    "We can find that, because of the voerlap of the score, the second exam perform worse than the first one.\n",
    "\n",
    "With the score of second exam (score_1), we can NOT find a score to seperate \"good\" students from \"bad\" students."
   ]
  },
  {
   "cell_type": "markdown",
   "metadata": {},
   "source": [
    "### Displaying TP rate and FP rate\n",
    "\n",
    "In previous diagram, \n",
    "\n",
    "`all_result_array_1[1]/number_bad` is the FP rate, which is the FP/number_bad\n",
    "\n",
    "`all_result_array_1[0]/number_good` is the TP rate, which is the TP/number_good\n",
    "\n",
    "\n",
    "If we set the x axis to FP rate, and y axis to TP rate, we got the following diagram.\n",
    "\n",
    "which is the ROC  (Receiver Operating Characteristic)"
   ]
  },
  {
   "cell_type": "code",
   "execution_count": 44,
   "metadata": {},
   "outputs": [
    {
     "data": {
      "text/plain": [
       "[<matplotlib.lines.Line2D at 0x7fed209acbe0>]"
      ]
     },
     "execution_count": 44,
     "metadata": {},
     "output_type": "execute_result"
    },
    {
     "data": {
      "image/png": "[encoded data removed]",
      "text/plain": [
       "<Figure size 576x432 with 1 Axes>"
      ]
     },
     "metadata": {
      "needs_background": "light"
     },
     "output_type": "display_data"
    }
   ],
   "source": [
    "plt.figure(figsize=(8,6))\n",
    "\n",
    "plt.plot( all_result_array_1[1]/number_bad, all_result_array_1[0]/number_good)"
   ]
  },
  {
   "cell_type": "markdown",
   "metadata": {},
   "source": [
    "And the ROC of first exam is:"
   ]
  },
  {
   "cell_type": "code",
   "execution_count": 45,
   "metadata": {},
   "outputs": [
    {
     "data": {
      "text/plain": [
       "[<matplotlib.lines.Line2D at 0x7fed008fd860>]"
      ]
     },
     "execution_count": 45,
     "metadata": {},
     "output_type": "execute_result"
    },
    {
     "data": {
      "image/png": "[encoded data removed]",
      "text/plain": [
       "<Figure size 576x432 with 1 Axes>"
      ]
     },
     "metadata": {
      "needs_background": "light"
     },
     "output_type": "display_data"
    }
   ],
   "source": [
    "plt.figure(figsize=(8,6))\n",
    "\n",
    "plt.plot( all_result_array[1]/number_bad, all_result_array[0]/number_good)"
   ]
  },
  {
   "cell_type": "markdown",
   "metadata": {},
   "source": [
    "The second exam if worse than the first one, represented by the missing part of up left corner in second exam's ROC"
   ]
  },
  {
   "cell_type": "code",
   "execution_count": 46,
   "metadata": {},
   "outputs": [
    {
     "data": {
      "text/plain": [
       "[<matplotlib.lines.Line2D at 0x7fed308d8550>]"
      ]
     },
     "execution_count": 46,
     "metadata": {},
     "output_type": "execute_result"
    },
    {
     "data": {
      "image/png": "[encoded data removed]",
      "text/plain": [
       "<Figure size 576x432 with 1 Axes>"
      ]
     },
     "metadata": {
      "needs_background": "light"
     },
     "output_type": "display_data"
    }
   ],
   "source": [
    "plt.figure(figsize=(8,6))\n",
    "\n",
    "plt.plot( all_result_array[1]/number_bad, all_result_array[0]/number_good)\n",
    "plt.plot( all_result_array_1[1]/number_bad, all_result_array_1[0]/number_good)\n"
   ]
  },
  {
   "cell_type": "markdown",
   "metadata": {},
   "source": [
    "## Concept of AUC\n",
    "\n",
    "So, the area under the ROC curve representing the effect of the exam.\n",
    "\n",
    "We call the Area Under the Curve as AUC."
   ]
  },
  {
   "cell_type": "markdown",
   "metadata": {},
   "source": [
    "## Designing different exams to display different AUCs\n",
    "\n",
    "Now, imagine that you are the teacher to design the exam.\n",
    "\n",
    "What you can do is setting the score range of \"good\" students and the score range of \"bad\" students.\n",
    "\n",
    "Try different score ranges, and theck the output of the AUC diagram."
   ]
  },
  {
   "cell_type": "code",
   "execution_count": 60,
   "metadata": {},
   "outputs": [],
   "source": [
    "def plot_auc(range_for_good, range_for_bad):\n",
    "\n",
    "    (good_min, good_max) = range_for_good\n",
    "    (bad_min, bad_max) = range_for_bad\n",
    "    \n",
    "    good_distance = good_max - good_min\n",
    "    bad_distance = bad_max - bad_min\n",
    "    \n",
    "    score_df['score_d'] = score_df['label'].map(\\\n",
    "                                          lambda x: bad_min + np.rint(np.random.rand()*bad_distance) if x==0 \\\n",
    "                                          else good_min + np.rint(np.random.rand()*good_distance))\n",
    "    \n",
    "    all_result = list()\n",
    "    for i in range(0,101):\n",
    "        score_df['pass_d'] = score_df['score_d'].map(lambda x: 1 if x>=i else 0)\n",
    "\n",
    "        score_df['TP'] = score_df.apply(lambda x: 1 if (x['label']==1 and x['pass_d']==1) else 0 , axis=1)\n",
    "        score_df['FP'] = score_df.apply(lambda x: 1 if (x['label']==0 and x['pass_d']==1) else 0 , axis=1)\n",
    "        score_df['TN'] = score_df.apply(lambda x: 1 if (x['label']==0 and x['pass_d']==0) else 0 , axis=1)\n",
    "        score_df['FN'] = score_df.apply(lambda x: 1 if (x['label']==1 and x['pass_d']==0) else 0 , axis=1)\n",
    "\n",
    "        number_TP = list(score_df['TP']).count(1)\n",
    "        number_FP = list(score_df['FP']).count(1)\n",
    "        number_TN = list(score_df['TN']).count(1)\n",
    "        number_FN = list(score_df['FN']).count(1)\n",
    "\n",
    "        all_result.append([number_TP, number_FP, number_TN, number_FN])\n",
    "        \n",
    "    auc_array = np.array(all_result).T\n",
    "    \n",
    "    plt.figure(figsize=(8,6))\n",
    "\n",
    "    plt.plot( auc_array[1]/number_bad, auc_array[0]/number_good)\n",
    "    \n"
   ]
  },
  {
   "cell_type": "code",
   "execution_count": 61,
   "metadata": {},
   "outputs": [
    {
     "data": {
      "application/vnd.jupyter.widget-view+json": {
       "model_id": "f28baa5c2210473ab00d44f25203289a",
       "version_major": 2,
       "version_minor": 0
      },
      "text/plain": [
       "interactive(children=(IntRangeSlider(value=(60, 100), description='range_for_good', style=SliderStyle(descript…"
      ]
     },
     "metadata": {},
     "output_type": "display_data"
    }
   ],
   "source": [
    "\n",
    "style = {'description_width': 'initial', 'width':'600'}\n",
    "\n",
    "@interact_manual(range_for_good=IntRangeSlider(min=0, max=100, value=(60,100), style=style),\n",
    "                 range_for_bad=IntRangeSlider(min=0, max=100, value=(0,59), style=style),\n",
    "    continuous_update=False\n",
    ")\n",
    "def plot_interact(range_for_good, range_for_bad):\n",
    "    plot_auc(range_for_good, range_for_bad)\n",
    "    \n",
    "    "
   ]
  },
  {
   "cell_type": "markdown",
   "metadata": {},
   "source": [
    "## Closing"
   ]
  },
  {
   "cell_type": "markdown",
   "metadata": {},
   "source": [
    "While designing a Machine Learning model for binary classification scenario, you are supposed to design a good model to separate positive samples from negative samples, just like the teacher to design a good exam to separate \"good\" students from \"bad\" students.\n",
    "\n",
    "So, if the AUC of your model is high, getting close to 1, you have designed a good model.\n",
    "\n",
    "If the AUC of your model is close to 0.5, you have designed a bad model, which work as bad as random guessing.\n",
    "\n",
    "If you find that the AUC of your model is very low, getting close to 0, don't worry, maybe you got a wrong label by mistake. What you need to do is simply switching the anwser."
   ]
  },
  {
   "cell_type": "code",
   "execution_count": null,
   "metadata": {},
   "outputs": [],
   "source": []
  }
 ],
 "metadata": {
  "kernelspec": {
   "display_name": "python37",
   "language": "python",
   "name": "python37"
  },
  "language_info": {
   "codemirror_mode": {
    "name": "ipython",
    "version": 3
   },
   "file_extension": ".py",
   "mimetype": "text/x-python",
   "name": "python",
   "nbconvert_exporter": "python",
   "pygments_lexer": "ipython3",
   "version": "3.7.1"
  }
 },
 "nbformat": 4,
 "nbformat_minor": 2
}
