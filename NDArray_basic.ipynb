{
 "cells": [
  {
   "cell_type": "markdown",
   "metadata": {},
   "source": [
    "### import mxnet as mx\n",
    "\n",
    "so that we can use components from mxnet with mx"
   ]
  },
  {
   "cell_type": "code",
   "execution_count": 3,
   "metadata": {
    "collapsed": false
   },
   "outputs": [],
   "source": [
    "import mxnet as mx"
   ]
  },
  {
   "cell_type": "markdown",
   "metadata": {},
   "source": [
    "### Create NDArray variables\n",
    "\n",
    "You can define NDArray variables which are full of \"ones\" with `mx.nd.ones(<shape>)`,\n",
    "and NDArray variables which are full of \"zeros\" with `mx.nd.zeros(<shape>)`.\n",
    "\n",
    "Basic mathematical operators can be used directly with these NDArray variables.\n",
    "\n",
    "To get all the values in the NDArray, you can use `asnumpy()` function of NDArray"
   ]
  },
  {
   "cell_type": "code",
   "execution_count": 4,
   "metadata": {
    "collapsed": false
   },
   "outputs": [
    {
     "data": {
      "text/plain": [
       "array([[ 1.,  1.,  1.,  1.],\n",
       "       [ 1.,  1.,  1.,  1.],\n",
       "       [ 1.,  1.,  1.,  1.]], dtype=float32)"
      ]
     },
     "execution_count": 4,
     "metadata": {},
     "output_type": "execute_result"
    }
   ],
   "source": [
    "a = mx.nd.ones((3,4))\n",
    "b = mx.nd.zeros((3,4))\n",
    "\n",
    "c = a + b\n",
    "\n",
    "c.asnumpy()"
   ]
  },
  {
   "cell_type": "markdown",
   "metadata": {},
   "source": [
    "###  Create random NDArray\n",
    "\n",
    "\n",
    "`mx.nd.empty(<shape>)` can be used to create NDArray full of random numbers:"
   ]
  },
  {
   "cell_type": "code",
   "execution_count": 5,
   "metadata": {
    "collapsed": false
   },
   "outputs": [
    {
     "data": {
      "text/plain": [
       "array([[  0.00000000e+00,   2.52435490e-29,   0.00000000e+00,\n",
       "          2.52435490e-29,   1.40129846e-44],\n",
       "       [  0.00000000e+00,   8.40779079e-45,   0.00000000e+00,\n",
       "          0.00000000e+00,   1.26116862e-44],\n",
       "       [  1.26116862e-44,   1.26116862e-44,   1.26116862e-44,\n",
       "          1.26116862e-44,   1.26116862e-44],\n",
       "       [  1.26116862e-44,   0.00000000e+00,   0.00000000e+00,\n",
       "          1.68155816e-44,   0.00000000e+00],\n",
       "       [  0.00000000e+00,   2.10194770e-44,   0.00000000e+00,\n",
       "          0.00000000e+00,   2.52233724e-44]], dtype=float32)"
      ]
     },
     "execution_count": 5,
     "metadata": {},
     "output_type": "execute_result"
    }
   ],
   "source": [
    "random_NDArray = mx.nd.empty((5,5))\n",
    "\n",
    "random_NDArray.asnumpy()"
   ]
  },
  {
   "cell_type": "markdown",
   "metadata": {},
   "source": [
    "### Create NDArray full of a number\n",
    "\n",
    "`mx.nd.full(<shape>, <number>)` can be used to create NDArray full of a number you assign with the parameter \"number\"\n"
   ]
  },
  {
   "cell_type": "code",
   "execution_count": 6,
   "metadata": {
    "collapsed": false
   },
   "outputs": [
    {
     "data": {
      "text/plain": [
       "array([[ 8.,  8.,  8.],\n",
       "       [ 8.,  8.,  8.],\n",
       "       [ 8.,  8.,  8.]], dtype=float32)"
      ]
     },
     "execution_count": 6,
     "metadata": {},
     "output_type": "execute_result"
    }
   ],
   "source": [
    "eight_NDArray = mx.nd.full((3,3), 8)\n",
    "\n",
    "eight_NDArray.asnumpy()"
   ]
  },
  {
   "cell_type": "code",
   "execution_count": null,
   "metadata": {
    "collapsed": true
   },
   "outputs": [],
   "source": []
  }
 ],
 "metadata": {
  "kernelspec": {
   "display_name": "Python 2",
   "language": "python",
   "name": "python2"
  },
  "language_info": {
   "codemirror_mode": {
    "name": "ipython",
    "version": 2
   },
   "file_extension": ".py",
   "mimetype": "text/x-python",
   "name": "python",
   "nbconvert_exporter": "python",
   "pygments_lexer": "ipython2",
   "version": "2.7.11"
  }
 },
 "nbformat": 4,
 "nbformat_minor": 2
}
